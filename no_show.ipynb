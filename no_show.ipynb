{
 "cells": [
  {
   "cell_type": "markdown",
   "metadata": {},
   "source": [
    "\n",
    "# Why is there a high no-show rate to medical appointments in Brazil?\n",
    "\n",
    "## Table of Contents\n",
    "<ul>\n",
    "<li><a href=\"#intro\">Introduction</a></li>\n",
    "<li><a href=\"#wrangling\">Data Wrangling</a></li>\n",
    "<li><a href=\"#eda\">Exploratory Data Analysis</a></li>\n",
    "<li><a href=\"#conclusion\">Conclusion</a></li>\n",
    "</ul>"
   ]
  },
  {
   "cell_type": "markdown",
   "metadata": {},
   "source": [
    "<a id='intro'></a>\n",
    "## Introduction\n",
    "\n",
    "> In this project, I'll explore a dataset of no-show medical appointments in Brazil. The  dataset was originally published on Kaggle by [Joni Hoppen](https://www.kaggle.com/joniarroba \"JoniHoppen\") and can be found [here](https://www.kaggle.com/joniarroba/noshowappointments \"here\"). The main question that this dataset raises is whether it is possible to predict the likelihood of no-show appointments based on determining factors (demographics, medical information, time, etc.). While this project does not aim to model the probability of no-show appointments, we will nevertheless explore correlations between various elements and no-show appointment trends that would serve as the basis to build a predictive data model.\n",
    "\n",
    "> A few notes about the dataset:\n",
    "* 'scheduled_day' is the day on which the person scheduled the appointment & 'appointment_day' is the day of the actual medical visit.\n",
    "* 'neighborhood' indicates the location of the hospital.\n",
    "* ‘scholarship’ indicates whether or not the patient is enrolled in the Brasilian welfare system known as Programa Bolsa Família, introduced in 2003 by former president Lula da Silva. You can read more about the program [here](https://www.centreforpublicimpact.org/case-study/bolsa-familia-in-brazil/ \"here\"). A score of 1 means that the person received aid under the welfare program, whereas a score of 0 means that the person did not.\n",
    "* The last column of the dataset, 'no_show', is encoded such that a \"No\" indicates that the person showed up for his/her/their medical appointment and a \"Yes\" indicates that the person did not show up.\n",
    "\n",
    "> Now that we've provided a bit of context, let's start by importing the necessary packages for the analysis."
   ]
  },
  {
   "cell_type": "code",
   "execution_count": 1164,
   "metadata": {},
   "outputs": [],
   "source": [
    "# Import packages\n",
    "\n",
    "import pandas as pd\n",
    "import numpy as np\n",
    "import matplotlib.pyplot as plt\n",
    "import statsmodels.api as sm;\n",
    "%matplotlib inline\n",
    "import seaborn as sns\n",
    "import re"
   ]
  },
  {
   "cell_type": "code",
   "execution_count": 1165,
   "metadata": {},
   "outputs": [],
   "source": [
    "no_show_df = pd.read_csv('noshowappt.csv')"
   ]
  },
  {
   "cell_type": "code",
   "execution_count": 1166,
   "metadata": {},
   "outputs": [
    {
     "data": {
      "text/html": [
       "<div>\n",
       "<style scoped>\n",
       "    .dataframe tbody tr th:only-of-type {\n",
       "        vertical-align: middle;\n",
       "    }\n",
       "\n",
       "    .dataframe tbody tr th {\n",
       "        vertical-align: top;\n",
       "    }\n",
       "\n",
       "    .dataframe thead th {\n",
       "        text-align: right;\n",
       "    }\n",
       "</style>\n",
       "<table border=\"1\" class=\"dataframe\">\n",
       "  <thead>\n",
       "    <tr style=\"text-align: right;\">\n",
       "      <th></th>\n",
       "      <th>PatientId</th>\n",
       "      <th>AppointmentID</th>\n",
       "      <th>Gender</th>\n",
       "      <th>ScheduledDay</th>\n",
       "      <th>AppointmentDay</th>\n",
       "      <th>Age</th>\n",
       "      <th>Neighbourhood</th>\n",
       "      <th>Scholarship</th>\n",
       "      <th>Hipertension</th>\n",
       "      <th>Diabetes</th>\n",
       "      <th>Alcoholism</th>\n",
       "      <th>Handcap</th>\n",
       "      <th>SMS_received</th>\n",
       "      <th>No-show</th>\n",
       "    </tr>\n",
       "  </thead>\n",
       "  <tbody>\n",
       "    <tr>\n",
       "      <th>0</th>\n",
       "      <td>2.987250e+13</td>\n",
       "      <td>5642903</td>\n",
       "      <td>F</td>\n",
       "      <td>2016-04-29T18:38:08Z</td>\n",
       "      <td>2016-04-29T00:00:00Z</td>\n",
       "      <td>62</td>\n",
       "      <td>JARDIM DA PENHA</td>\n",
       "      <td>0</td>\n",
       "      <td>1</td>\n",
       "      <td>0</td>\n",
       "      <td>0</td>\n",
       "      <td>0</td>\n",
       "      <td>0</td>\n",
       "      <td>No</td>\n",
       "    </tr>\n",
       "    <tr>\n",
       "      <th>1</th>\n",
       "      <td>5.589978e+14</td>\n",
       "      <td>5642503</td>\n",
       "      <td>M</td>\n",
       "      <td>2016-04-29T16:08:27Z</td>\n",
       "      <td>2016-04-29T00:00:00Z</td>\n",
       "      <td>56</td>\n",
       "      <td>JARDIM DA PENHA</td>\n",
       "      <td>0</td>\n",
       "      <td>0</td>\n",
       "      <td>0</td>\n",
       "      <td>0</td>\n",
       "      <td>0</td>\n",
       "      <td>0</td>\n",
       "      <td>No</td>\n",
       "    </tr>\n",
       "    <tr>\n",
       "      <th>2</th>\n",
       "      <td>4.262962e+12</td>\n",
       "      <td>5642549</td>\n",
       "      <td>F</td>\n",
       "      <td>2016-04-29T16:19:04Z</td>\n",
       "      <td>2016-04-29T00:00:00Z</td>\n",
       "      <td>62</td>\n",
       "      <td>MATA DA PRAIA</td>\n",
       "      <td>0</td>\n",
       "      <td>0</td>\n",
       "      <td>0</td>\n",
       "      <td>0</td>\n",
       "      <td>0</td>\n",
       "      <td>0</td>\n",
       "      <td>No</td>\n",
       "    </tr>\n",
       "    <tr>\n",
       "      <th>3</th>\n",
       "      <td>8.679512e+11</td>\n",
       "      <td>5642828</td>\n",
       "      <td>F</td>\n",
       "      <td>2016-04-29T17:29:31Z</td>\n",
       "      <td>2016-04-29T00:00:00Z</td>\n",
       "      <td>8</td>\n",
       "      <td>PONTAL DE CAMBURI</td>\n",
       "      <td>0</td>\n",
       "      <td>0</td>\n",
       "      <td>0</td>\n",
       "      <td>0</td>\n",
       "      <td>0</td>\n",
       "      <td>0</td>\n",
       "      <td>No</td>\n",
       "    </tr>\n",
       "    <tr>\n",
       "      <th>4</th>\n",
       "      <td>8.841186e+12</td>\n",
       "      <td>5642494</td>\n",
       "      <td>F</td>\n",
       "      <td>2016-04-29T16:07:23Z</td>\n",
       "      <td>2016-04-29T00:00:00Z</td>\n",
       "      <td>56</td>\n",
       "      <td>JARDIM DA PENHA</td>\n",
       "      <td>0</td>\n",
       "      <td>1</td>\n",
       "      <td>1</td>\n",
       "      <td>0</td>\n",
       "      <td>0</td>\n",
       "      <td>0</td>\n",
       "      <td>No</td>\n",
       "    </tr>\n",
       "  </tbody>\n",
       "</table>\n",
       "</div>"
      ],
      "text/plain": [
       "      PatientId  AppointmentID Gender          ScheduledDay  \\\n",
       "0  2.987250e+13        5642903      F  2016-04-29T18:38:08Z   \n",
       "1  5.589978e+14        5642503      M  2016-04-29T16:08:27Z   \n",
       "2  4.262962e+12        5642549      F  2016-04-29T16:19:04Z   \n",
       "3  8.679512e+11        5642828      F  2016-04-29T17:29:31Z   \n",
       "4  8.841186e+12        5642494      F  2016-04-29T16:07:23Z   \n",
       "\n",
       "         AppointmentDay  Age      Neighbourhood  Scholarship  Hipertension  \\\n",
       "0  2016-04-29T00:00:00Z   62    JARDIM DA PENHA            0             1   \n",
       "1  2016-04-29T00:00:00Z   56    JARDIM DA PENHA            0             0   \n",
       "2  2016-04-29T00:00:00Z   62      MATA DA PRAIA            0             0   \n",
       "3  2016-04-29T00:00:00Z    8  PONTAL DE CAMBURI            0             0   \n",
       "4  2016-04-29T00:00:00Z   56    JARDIM DA PENHA            0             1   \n",
       "\n",
       "   Diabetes  Alcoholism  Handcap  SMS_received No-show  \n",
       "0         0           0        0             0      No  \n",
       "1         0           0        0             0      No  \n",
       "2         0           0        0             0      No  \n",
       "3         0           0        0             0      No  \n",
       "4         1           0        0             0      No  "
      ]
     },
     "execution_count": 1166,
     "metadata": {},
     "output_type": "execute_result"
    }
   ],
   "source": [
    "no_show_df.head()"
   ]
  },
  {
   "cell_type": "code",
   "execution_count": 1167,
   "metadata": {},
   "outputs": [
    {
     "name": "stdout",
     "output_type": "stream",
     "text": [
      "<class 'pandas.core.frame.DataFrame'>\n",
      "RangeIndex: 110527 entries, 0 to 110526\n",
      "Data columns (total 14 columns):\n",
      "PatientId         110527 non-null float64\n",
      "AppointmentID     110527 non-null int64\n",
      "Gender            110527 non-null object\n",
      "ScheduledDay      110527 non-null object\n",
      "AppointmentDay    110527 non-null object\n",
      "Age               110527 non-null int64\n",
      "Neighbourhood     110527 non-null object\n",
      "Scholarship       110527 non-null int64\n",
      "Hipertension      110527 non-null int64\n",
      "Diabetes          110527 non-null int64\n",
      "Alcoholism        110527 non-null int64\n",
      "Handcap           110527 non-null int64\n",
      "SMS_received      110527 non-null int64\n",
      "No-show           110527 non-null object\n",
      "dtypes: float64(1), int64(8), object(5)\n",
      "memory usage: 11.8+ MB\n"
     ]
    }
   ],
   "source": [
    "no_show_df.info()"
   ]
  },
  {
   "cell_type": "markdown",
   "metadata": {},
   "source": [
    "<a id='wrangling'></a>\n",
    "## Data Wrangling\n",
    "\n"
   ]
  },
  {
   "cell_type": "markdown",
   "metadata": {},
   "source": [
    "> As we notice from the printed data, it looks like the column names aren't uniform. Let's rename the columns so that they are all printed in lowercase. If the column name contains two words, let's also separate them using an underscore."
   ]
  },
  {
   "cell_type": "code",
   "execution_count": 1168,
   "metadata": {},
   "outputs": [],
   "source": [
    "# Add underscore before second upperscore letter of column names\n",
    "original_col_names = list(no_show_df.columns)\n",
    "new_col_names = []\n",
    "\n",
    "for column_name in original_col_names:\n",
    "    re_replace = re.sub(r'(?<=[a-z])(?=[A-Z])', '_', column_name)\n",
    "    new_col_names.append(re_replace)\n",
    "\n",
    "# Replace existing column names with the new ones stored in the new_col_names variable\n",
    "no_show_df.columns = new_col_names\n",
    "\n",
    "# Rename all column names to lowercase\n",
    "no_show_df.rename(columns=lambda x: x.strip().lower(), inplace=True)\n",
    "\n",
    "# Manually rename column names that contain spelling errors or weren't captured in the functions above\n",
    "no_show_df.rename(columns={'hipertension':'hypertension',\n",
    "                          'handcap':'handicap',\n",
    "                          'no-show':'no_show'}, \n",
    "                          inplace=True)"
   ]
  },
  {
   "cell_type": "markdown",
   "metadata": {},
   "source": [
    "> We also notice from the dataset summary that the datatype of columns 'scheduled_day' and 'appointment_day' appears to be an object, representing text or a combination of numeric and non-numeric values, even though the columns seem to be of datetime type. Let's convert the datatype from object to datetime."
   ]
  },
  {
   "cell_type": "code",
   "execution_count": 1169,
   "metadata": {},
   "outputs": [
    {
     "name": "stdout",
     "output_type": "stream",
     "text": [
      "<class 'pandas.core.frame.DataFrame'>\n",
      "RangeIndex: 110527 entries, 0 to 110526\n",
      "Data columns (total 14 columns):\n",
      "patient_id         110527 non-null float64\n",
      "appointment_id     110527 non-null int64\n",
      "gender             110527 non-null object\n",
      "scheduled_day      110527 non-null datetime64[ns, UTC]\n",
      "appointment_day    110527 non-null datetime64[ns, UTC]\n",
      "age                110527 non-null int64\n",
      "neighbourhood      110527 non-null object\n",
      "scholarship        110527 non-null int64\n",
      "hypertension       110527 non-null int64\n",
      "diabetes           110527 non-null int64\n",
      "alcoholism         110527 non-null int64\n",
      "handicap           110527 non-null int64\n",
      "sms_received       110527 non-null int64\n",
      "no_show            110527 non-null object\n",
      "dtypes: datetime64[ns, UTC](2), float64(1), int64(8), object(3)\n",
      "memory usage: 11.8+ MB\n"
     ]
    }
   ],
   "source": [
    "#changing datatype of columns 'scheduled_day' and 'appointment_day'\n",
    "\n",
    "no_show_df['scheduled_day'] = pd.to_datetime(no_show_df['scheduled_day'])\n",
    "no_show_df['appointment_day'] = pd.to_datetime(no_show_df['appointment_day'])\n",
    "\n",
    "no_show_df.info()"
   ]
  },
  {
   "cell_type": "markdown",
   "metadata": {},
   "source": [
    "> As we see from the dataset summary, the columns 'scheduled_day' and 'appointment_day' have now been changed to datetime. Let's now investigate the 'age' column. Let's first sort the rows by ascending age values and investigate low and high age values."
   ]
  },
  {
   "cell_type": "code",
   "execution_count": 1170,
   "metadata": {},
   "outputs": [],
   "source": [
    "no_show_df.sort_values(by=['age'], inplace=True)"
   ]
  },
  {
   "cell_type": "code",
   "execution_count": 1171,
   "metadata": {},
   "outputs": [
    {
     "data": {
      "text/html": [
       "<div>\n",
       "<style scoped>\n",
       "    .dataframe tbody tr th:only-of-type {\n",
       "        vertical-align: middle;\n",
       "    }\n",
       "\n",
       "    .dataframe tbody tr th {\n",
       "        vertical-align: top;\n",
       "    }\n",
       "\n",
       "    .dataframe thead th {\n",
       "        text-align: right;\n",
       "    }\n",
       "</style>\n",
       "<table border=\"1\" class=\"dataframe\">\n",
       "  <thead>\n",
       "    <tr style=\"text-align: right;\">\n",
       "      <th></th>\n",
       "      <th>patient_id</th>\n",
       "      <th>appointment_id</th>\n",
       "      <th>gender</th>\n",
       "      <th>scheduled_day</th>\n",
       "      <th>appointment_day</th>\n",
       "      <th>age</th>\n",
       "      <th>neighbourhood</th>\n",
       "      <th>scholarship</th>\n",
       "      <th>hypertension</th>\n",
       "      <th>diabetes</th>\n",
       "      <th>alcoholism</th>\n",
       "      <th>handicap</th>\n",
       "      <th>sms_received</th>\n",
       "      <th>no_show</th>\n",
       "    </tr>\n",
       "  </thead>\n",
       "  <tbody>\n",
       "    <tr>\n",
       "      <th>99832</th>\n",
       "      <td>4.659432e+14</td>\n",
       "      <td>5775010</td>\n",
       "      <td>F</td>\n",
       "      <td>2016-06-06 08:58:13+00:00</td>\n",
       "      <td>2016-06-06 00:00:00+00:00</td>\n",
       "      <td>-1</td>\n",
       "      <td>ROMÃO</td>\n",
       "      <td>0</td>\n",
       "      <td>0</td>\n",
       "      <td>0</td>\n",
       "      <td>0</td>\n",
       "      <td>0</td>\n",
       "      <td>0</td>\n",
       "      <td>No</td>\n",
       "    </tr>\n",
       "    <tr>\n",
       "      <th>90372</th>\n",
       "      <td>2.342836e+11</td>\n",
       "      <td>5751563</td>\n",
       "      <td>F</td>\n",
       "      <td>2016-05-31 10:19:49+00:00</td>\n",
       "      <td>2016-06-02 00:00:00+00:00</td>\n",
       "      <td>102</td>\n",
       "      <td>MARIA ORTIZ</td>\n",
       "      <td>0</td>\n",
       "      <td>0</td>\n",
       "      <td>0</td>\n",
       "      <td>0</td>\n",
       "      <td>0</td>\n",
       "      <td>0</td>\n",
       "      <td>No</td>\n",
       "    </tr>\n",
       "    <tr>\n",
       "      <th>58014</th>\n",
       "      <td>9.762948e+14</td>\n",
       "      <td>5651757</td>\n",
       "      <td>F</td>\n",
       "      <td>2016-05-03 09:14:53+00:00</td>\n",
       "      <td>2016-05-03 00:00:00+00:00</td>\n",
       "      <td>102</td>\n",
       "      <td>CONQUISTA</td>\n",
       "      <td>0</td>\n",
       "      <td>0</td>\n",
       "      <td>0</td>\n",
       "      <td>0</td>\n",
       "      <td>0</td>\n",
       "      <td>0</td>\n",
       "      <td>No</td>\n",
       "    </tr>\n",
       "    <tr>\n",
       "      <th>63915</th>\n",
       "      <td>3.196321e+13</td>\n",
       "      <td>5700279</td>\n",
       "      <td>F</td>\n",
       "      <td>2016-05-16 09:17:44+00:00</td>\n",
       "      <td>2016-05-19 00:00:00+00:00</td>\n",
       "      <td>115</td>\n",
       "      <td>ANDORINHAS</td>\n",
       "      <td>0</td>\n",
       "      <td>0</td>\n",
       "      <td>0</td>\n",
       "      <td>0</td>\n",
       "      <td>1</td>\n",
       "      <td>0</td>\n",
       "      <td>Yes</td>\n",
       "    </tr>\n",
       "    <tr>\n",
       "      <th>76284</th>\n",
       "      <td>3.196321e+13</td>\n",
       "      <td>5744037</td>\n",
       "      <td>F</td>\n",
       "      <td>2016-05-30 09:44:51+00:00</td>\n",
       "      <td>2016-05-30 00:00:00+00:00</td>\n",
       "      <td>115</td>\n",
       "      <td>ANDORINHAS</td>\n",
       "      <td>0</td>\n",
       "      <td>0</td>\n",
       "      <td>0</td>\n",
       "      <td>0</td>\n",
       "      <td>1</td>\n",
       "      <td>0</td>\n",
       "      <td>No</td>\n",
       "    </tr>\n",
       "    <tr>\n",
       "      <th>68127</th>\n",
       "      <td>3.196321e+13</td>\n",
       "      <td>5562812</td>\n",
       "      <td>F</td>\n",
       "      <td>2016-04-08 14:29:17+00:00</td>\n",
       "      <td>2016-05-16 00:00:00+00:00</td>\n",
       "      <td>115</td>\n",
       "      <td>ANDORINHAS</td>\n",
       "      <td>0</td>\n",
       "      <td>0</td>\n",
       "      <td>0</td>\n",
       "      <td>0</td>\n",
       "      <td>1</td>\n",
       "      <td>0</td>\n",
       "      <td>Yes</td>\n",
       "    </tr>\n",
       "    <tr>\n",
       "      <th>63912</th>\n",
       "      <td>3.196321e+13</td>\n",
       "      <td>5700278</td>\n",
       "      <td>F</td>\n",
       "      <td>2016-05-16 09:17:44+00:00</td>\n",
       "      <td>2016-05-19 00:00:00+00:00</td>\n",
       "      <td>115</td>\n",
       "      <td>ANDORINHAS</td>\n",
       "      <td>0</td>\n",
       "      <td>0</td>\n",
       "      <td>0</td>\n",
       "      <td>0</td>\n",
       "      <td>1</td>\n",
       "      <td>0</td>\n",
       "      <td>Yes</td>\n",
       "    </tr>\n",
       "    <tr>\n",
       "      <th>97666</th>\n",
       "      <td>7.482346e+14</td>\n",
       "      <td>5717451</td>\n",
       "      <td>F</td>\n",
       "      <td>2016-05-19 07:57:56+00:00</td>\n",
       "      <td>2016-06-03 00:00:00+00:00</td>\n",
       "      <td>115</td>\n",
       "      <td>SÃO JOSÉ</td>\n",
       "      <td>0</td>\n",
       "      <td>1</td>\n",
       "      <td>0</td>\n",
       "      <td>0</td>\n",
       "      <td>0</td>\n",
       "      <td>1</td>\n",
       "      <td>No</td>\n",
       "    </tr>\n",
       "  </tbody>\n",
       "</table>\n",
       "</div>"
      ],
      "text/plain": [
       "         patient_id  appointment_id gender             scheduled_day  \\\n",
       "99832  4.659432e+14         5775010      F 2016-06-06 08:58:13+00:00   \n",
       "90372  2.342836e+11         5751563      F 2016-05-31 10:19:49+00:00   \n",
       "58014  9.762948e+14         5651757      F 2016-05-03 09:14:53+00:00   \n",
       "63915  3.196321e+13         5700279      F 2016-05-16 09:17:44+00:00   \n",
       "76284  3.196321e+13         5744037      F 2016-05-30 09:44:51+00:00   \n",
       "68127  3.196321e+13         5562812      F 2016-04-08 14:29:17+00:00   \n",
       "63912  3.196321e+13         5700278      F 2016-05-16 09:17:44+00:00   \n",
       "97666  7.482346e+14         5717451      F 2016-05-19 07:57:56+00:00   \n",
       "\n",
       "                appointment_day  age neighbourhood  scholarship  hypertension  \\\n",
       "99832 2016-06-06 00:00:00+00:00   -1         ROMÃO            0             0   \n",
       "90372 2016-06-02 00:00:00+00:00  102   MARIA ORTIZ            0             0   \n",
       "58014 2016-05-03 00:00:00+00:00  102     CONQUISTA            0             0   \n",
       "63915 2016-05-19 00:00:00+00:00  115    ANDORINHAS            0             0   \n",
       "76284 2016-05-30 00:00:00+00:00  115    ANDORINHAS            0             0   \n",
       "68127 2016-05-16 00:00:00+00:00  115    ANDORINHAS            0             0   \n",
       "63912 2016-05-19 00:00:00+00:00  115    ANDORINHAS            0             0   \n",
       "97666 2016-06-03 00:00:00+00:00  115      SÃO JOSÉ            0             1   \n",
       "\n",
       "       diabetes  alcoholism  handicap  sms_received no_show  \n",
       "99832         0           0         0             0      No  \n",
       "90372         0           0         0             0      No  \n",
       "58014         0           0         0             0      No  \n",
       "63915         0           0         1             0     Yes  \n",
       "76284         0           0         1             0      No  \n",
       "68127         0           0         1             0     Yes  \n",
       "63912         0           0         1             0     Yes  \n",
       "97666         0           0         0             1      No  "
      ]
     },
     "execution_count": 1171,
     "metadata": {},
     "output_type": "execute_result"
    }
   ],
   "source": [
    "no_show_df[(no_show_df.age < 0) | (no_show_df.age > 100)]"
   ]
  },
  {
   "cell_type": "markdown",
   "metadata": {},
   "source": [
    "> From the query above, it looks like there are 8 rows with age values below 0 and above 100. We can also confirm with a boxplot the age distribution for both female and male patients."
   ]
  },
  {
   "cell_type": "code",
   "execution_count": 1172,
   "metadata": {},
   "outputs": [
    {
     "data": {
      "image/png": "[encoded data removed]",
      "text/plain": [
       "<Figure size 194.4x288 with 1 Axes>"
      ]
     },
     "metadata": {
      "needs_background": "light"
     },
     "output_type": "display_data"
    }
   ],
   "source": [
    "plt.figure(figsize=(2.7,4))\n",
    "sns.boxplot(x = 'gender', y=\"age\", order = ['F','M'], data=no_show_df, linewidth=1.25);"
   ]
  },
  {
   "cell_type": "markdown",
   "metadata": {},
   "source": [
    "> Based on the table above, the age value of 102 doesn't seem particularly unusual: advancements in the medical field have led to an increase in life expectancy over time, making centenarians more common now than before. However, there are inconsistencies in the `age` column that need to be inspected. We notice that there seems to be two supercentanarians (based on the patient ID) with an age of 115. According to the [Gerontology Research Group](http://www.grg.org/SC/WorldSCRankingsList.html \"Gerontology Research Group\"), there were only 5 Brazilian supercentanarians and all died before even reaching the age of 115. Based on the lack of documentation to determine the validity of the datapoints, I'll remove those 5 rows altogether to avoid skewing the results."
   ]
  },
  {
   "cell_type": "code",
   "execution_count": 1173,
   "metadata": {},
   "outputs": [],
   "source": [
    "no_show_df = no_show_df[(no_show_df.age > 0) & (no_show_df.age < 115)]"
   ]
  },
  {
   "cell_type": "code",
   "execution_count": 1174,
   "metadata": {},
   "outputs": [
    {
     "data": {
      "image/png": "[encoded data removed]",
      "text/plain": [
       "<Figure size 194.4x288 with 1 Axes>"
      ]
     },
     "metadata": {
      "needs_background": "light"
     },
     "output_type": "display_data"
    }
   ],
   "source": [
    "plt.figure(figsize=(2.7,4))\n",
    "sns.boxplot(x = 'gender', y=\"age\", order = ['F','M'], data=no_show_df, linewidth=1.25);"
   ]
  },
  {
   "cell_type": "markdown",
   "metadata": {},
   "source": [
    "> There also appear to be appointments scheduled after the appointment date itself, which could have happened because of poor data entry or because the file was overwritten. Regardless, I decided to remove those rows to avoid misrepresenting the data."
   ]
  },
  {
   "cell_type": "code",
   "execution_count": 1186,
   "metadata": {},
   "outputs": [],
   "source": [
    "no_show_df['days_between_scheduling_and_appointment'] =  \\\n",
    "(no_show_df['appointment_day'] - no_show_df['scheduled_day']).dt.days\n",
    "no_show_df = no_show_df[(no_show_df.days_between_scheduling_and_appointment >= 0)]"
   ]
  },
  {
   "cell_type": "markdown",
   "metadata": {},
   "source": [
    "> Now that we've sanitized the data, let's start exploring the questions first asked in the introduction section of this analysis. I'll start by exploring the relationship between demographics and no-show appointment data. I'll then investigate the impact of time on no-show appointment trends. Finally, I'll briefly study the correlation between medical information and the likelihood of observing no-show appointments."
   ]
  },
  {
   "cell_type": "markdown",
   "metadata": {},
   "source": [
    "<a id='eda'></a>\n",
    "## Exploratory Data Analysis\n",
    "\n",
    "\n",
    "### Research Question 1: Is demographic information indicative of no-show appointments?"
   ]
  },
  {
   "cell_type": "markdown",
   "metadata": {},
   "source": [
    "> Let's now focus on the demographics of our population (gender, age, neighborhood). Note: The following exploratory analysis does not take into account the fact that one patient may appear multiple times in the dataset. I decided to keep duplicated `patient_id` to avoid misrepresenting the number of no-shows."
   ]
  },
  {
   "cell_type": "code",
   "execution_count": 1176,
   "metadata": {},
   "outputs": [
    {
     "data": {
      "image/png": "[encoded data removed]",
      "text/plain": [
       "<Figure size 288x396 with 1 Axes>"
      ]
     },
     "metadata": {
      "needs_background": "light"
     },
     "output_type": "display_data"
    }
   ],
   "source": [
    "crosstab= pd.crosstab(no_show_df['gender'],no_show_df['no_show']).apply(lambda r: r/r.sum(), axis=1)\n",
    "\n",
    "stacked = crosstab.stack().reset_index().rename(columns={0:'value'})\n",
    "color = sns.color_palette(\"Set1\", n_colors=8, desat=.5)\n",
    "\n",
    "plt.figure(figsize=(4, 5.5))\n",
    "\n",
    "g = sns.barplot(x=stacked.no_show, y=stacked.value, hue=stacked.gender, palette = color)\n",
    "\n",
    "# create a list to collect the plotted shape object\n",
    "totals = []\n",
    "\n",
    "# find the values and append to list\n",
    "for i in g.patches:\n",
    "    totals.append(i.get_height())\n",
    "\n",
    "# set individual bar labels using list above\n",
    "total = sum(totals)\n",
    "\n",
    "# display individual bar labels\n",
    "for i in g.patches:\n",
    "    g.text(i.get_x(), i.get_height()+0.01, \\\n",
    "            str(round(i.get_height()*100, 2))+'%', fontsize=11)"
   ]
  },
  {
   "cell_type": "markdown",
   "metadata": {},
   "source": [
    "> Here, gender by itself does not appear to be a significant factor of no-show appointments. The proportion of no-shows is fairly equivalent between male and female patients (approx. 20%)."
   ]
  },
  {
   "cell_type": "code",
   "execution_count": 1244,
   "metadata": {},
   "outputs": [
    {
     "data": {
      "image/png": "[encoded data removed]",
      "text/plain": [
       "<Figure size 468x324 with 1 Axes>"
      ]
     },
     "metadata": {},
     "output_type": "display_data"
    }
   ],
   "source": [
    "no_show = no_show_df.loc[no_show_df['no_show'] == 'Yes']\n",
    "\n",
    "fig = plt.figure(figsize=(6.5,4.5))\n",
    "\n",
    "color = ['indianred','steelblue']\n",
    "\n",
    "sns.countplot(data = no_show, x = 'age', hue = 'gender', \n",
    "              order=np.arange(0,no_show.age.max()+5,5), hue_order = ['F','M'],\n",
    "              palette = color)\n",
    "\n",
    "sns.set(style=\"whitegrid\")\n",
    "\n",
    "plt.title('number of no-shows by gender in each age group', fontweight= 'bold')\n",
    "plt.xlabel('age distribution')\n",
    "plt.show()"
   ]
  },
  {
   "cell_type": "markdown",
   "metadata": {},
   "source": [
    "> Here, the data is a little more interesting. The barplot representing the age distribution of male patients is right-skewed. There appears to be more no-shows for male patients between the ages of 0 and 10 than in any other age group. \\\n",
    "There tends to be a higher number of no-shows for female patients in other age ranges, particularly between the ages of 15 and 60. \\\n",
    "As patients get older, there appears to be less no-show appointments. This is probably because older patients become increasingly vulnerable to ailments and can't afford to miss their medical appointment."
   ]
  },
  {
   "cell_type": "code",
   "execution_count": 1204,
   "metadata": {},
   "outputs": [
    {
     "data": {
      "image/png": "[encoded data removed]",
      "text/plain": [
       "<Figure size 468x252 with 1 Axes>"
      ]
     },
     "metadata": {},
     "output_type": "display_data"
    }
   ],
   "source": [
    "fig = plt.figure(figsize=(6.5,3.5))\n",
    "\n",
    "neighbourhood = no_show.neighbourhood.value_counts()[:10].sort_values().plot(kind = 'barh', colormap='Paired')\n",
    "sns.despine(top=True, right=True, left=False, bottom=True)\n",
    "\n",
    "for p in neighbourhood.patches:\n",
    "    width = p.get_width()\n",
    "    plt.text(p.get_width()+10, p.get_y()+0.5*p.get_height(),\n",
    "             '{:1.0f}'.format(width),\n",
    "             ha='left', va='center')\n",
    "\n",
    "sns.set(style=\"whitegrid\")\n",
    "plt.title('number of no-show appointments \\n by neighbourhood', fontweight = 'bold');"
   ]
  },
  {
   "cell_type": "markdown",
   "metadata": {},
   "source": [
    "> The horizontal barplot above seems to point to the fact that region is a factor resulting in no-show appointments. The top three areas with the highest number of no-show appointments are Jardim Camburi, María Ortiz, and Itararé. Here, a mapping of the neighborhoods and regions in Brazil would be helpful to visualize no-show appointment trends across Brazil. It would help determine the reason why there are so many no-shows in the neighborhood of Jardim Camburi."
   ]
  },
  {
   "cell_type": "markdown",
   "metadata": {},
   "source": [
    "### Research Question 2: Is the day of week a significant determinant of no-show appointments?"
   ]
  },
  {
   "cell_type": "code",
   "execution_count": 1179,
   "metadata": {},
   "outputs": [
    {
     "data": {
      "image/png": "[encoded data removed]",
      "text/plain": [
       "<Figure size 432x288 with 1 Axes>"
      ]
     },
     "metadata": {},
     "output_type": "display_data"
    }
   ],
   "source": [
    "no_show_df['weekday'] = no_show_df.appointment_day.apply(lambda dt: dt.weekday_name)\n",
    "\n",
    "noshow_by_day = no_show_df.loc[no_show_df['no_show'] == 'Yes'].groupby('weekday',as_index = False)['no_show'].count()\n",
    "\n",
    "#re-order weekdays\n",
    "day_of_week = ['Monday','Tuesday','Wednesday','Thursday','Friday','Saturday']\n",
    "noshow_by_day = noshow_by_day.groupby(['weekday']).sum().reindex(day_of_week).reset_index()\n",
    "\n",
    "# plot number of appointments during the week\n",
    "\n",
    "sns.set(style=\"white\")\n",
    "graph = sns.barplot(data=noshow_by_day, x=\"weekday\", y=\"no_show\", color = sns.color_palette()[9])\n",
    "plt.title('number of no-shows by day of the week', fontweight = 'bold')\n",
    "plt.legend('');\n",
    "plt.xlabel('');\n",
    "\n",
    "#annotate each bar with number of no-shows by day of the week\n",
    "# set individual bar lables using above list\n",
    "for i in graph.patches:\n",
    "    # get_x pulls left or right; get_height pushes up or down\n",
    "    graph.text(i.get_x()+.2, i.get_height()+30, \\\n",
    "            str(int((i.get_height()))), fontsize=11, color='dimgrey')"
   ]
  },
  {
   "cell_type": "markdown",
   "metadata": {},
   "source": [
    "> As we can see from the chart above, the days with the most no-shows are Tuesdays and Wednesdays, which tend the be the busiest days of the week."
   ]
  },
  {
   "cell_type": "markdown",
   "metadata": {},
   "source": [
    "### Research Question 3: Is the time between the scheduled and appointment day a good indicator of no-show appointments?"
   ]
  },
  {
   "cell_type": "code",
   "execution_count": 1212,
   "metadata": {},
   "outputs": [
    {
     "data": {
      "image/png": "[encoded data removed]",
      "text/plain": [
       "<Figure size 432x288 with 1 Axes>"
      ]
     },
     "metadata": {},
     "output_type": "display_data"
    }
   ],
   "source": [
    "time_slicer = no_show_df.loc[no_show_df['no_show'] == \"Yes\"]\n",
    "time_slicer = no_show.groupby(['days_between_scheduling_and_appointment'], as_index = False)['no_show'].count()\n",
    "\n",
    "sns.set(style=\"darkgrid\")\n",
    "plt.plot( 'days_between_scheduling_and_appointment', 'no_show', data=time_slicer, color='cadetblue', linewidth=2)\n",
    "plt.xlabel(\"number of days between scheduled and appointment days\", labelpad=10);\n",
    "plt.ylabel(\"number of no-shows\", labelpad=10);"
   ]
  },
  {
   "cell_type": "markdown",
   "metadata": {},
   "source": [
    "> Interestingly, the number of no-show appointments increases as the time between the scheduled visit and the medical appointment narrows. It seems like patients who schedule their visit far in advance are extremely reliable. Those patients probably have more serious medical conditions that require tending. However, it is not apparent from the graph above and would require further analysis by examining the patients' various medical conditions."
   ]
  },
  {
   "cell_type": "markdown",
   "metadata": {},
   "source": [
    "### Research Question 4: How do medical conditions affect the likelihood of no-show appointments?"
   ]
  },
  {
   "cell_type": "markdown",
   "metadata": {},
   "source": [
    "> Let's now turn to medical conditions of the patients. Although this portion of the analysis goes beyond Exploratory Data Analysis, it'll nevertheless provide useful insights. They can help determine whether the correlation between medical conditions and no-show appointments is worth investigating. We will look at the relationship between no-show appointment data and the ailments that patients suffer from, namely hypertension, diabetes, alcoholism, and handicap(s). In this regression, we'll use three variables: hypertension, diabetes, and alcoholism. We'll have to explore handicaps later as the variable isn't encoded in a binary way."
   ]
  },
  {
   "cell_type": "code",
   "execution_count": 1181,
   "metadata": {},
   "outputs": [
    {
     "name": "stdout",
     "output_type": "stream",
     "text": [
      "Optimization terminated successfully.\n",
      "         Current function value: 279.880928\n",
      "         Iterations 5\n"
     ]
    },
    {
     "name": "stderr",
     "output_type": "stream",
     "text": [
      "/Users/chloelubin/opt/anaconda3/lib/python3.7/site-packages/statsmodels/base/model.py:548: HessianInversionWarning: Inverting hessian failed, no bse or cov_params available\n",
      "  'available', HessianInversionWarning)\n",
      "/Users/chloelubin/opt/anaconda3/lib/python3.7/site-packages/statsmodels/base/model.py:548: HessianInversionWarning: Inverting hessian failed, no bse or cov_params available\n",
      "  'available', HessianInversionWarning)\n",
      "/Users/chloelubin/opt/anaconda3/lib/python3.7/site-packages/statsmodels/discrete/discrete_model.py:3409: RuntimeWarning: divide by zero encountered in double_scalars\n",
      "  return 1 - self.llf/self.llnull\n"
     ]
    },
    {
     "data": {
      "text/html": [
       "<table class=\"simpletable\">\n",
       "<caption>Logit Regression Results</caption>\n",
       "<tr>\n",
       "  <th>Dep. Variable:</th>        <td>noshow</td>      <th>  No. Observations:  </th>   <td>106977</td>   \n",
       "</tr>\n",
       "<tr>\n",
       "  <th>Model:</th>                 <td>Logit</td>      <th>  Df Residuals:      </th>   <td>106973</td>   \n",
       "</tr>\n",
       "<tr>\n",
       "  <th>Method:</th>                 <td>MLE</td>       <th>  Df Model:          </th>   <td>     3</td>   \n",
       "</tr>\n",
       "<tr>\n",
       "  <th>Date:</th>            <td>Sun, 12 Apr 2020</td> <th>  Pseudo R-squ.:     </th>   <td>   inf</td>   \n",
       "</tr>\n",
       "<tr>\n",
       "  <th>Time:</th>                <td>14:47:22</td>     <th>  Log-Likelihood:    </th> <td>-2.9941e+07</td>\n",
       "</tr>\n",
       "<tr>\n",
       "  <th>converged:</th>             <td>True</td>       <th>  LL-Null:           </th>  <td>  0.0000</td>  \n",
       "</tr>\n",
       "<tr>\n",
       "  <th>Covariance Type:</th>     <td>nonrobust</td>    <th>  LLR p-value:       </th>   <td> 1.000</td>   \n",
       "</tr>\n",
       "</table>\n",
       "<table class=\"simpletable\">\n",
       "<tr>\n",
       "        <td></td>          <th>coef</th>     <th>std err</th>      <th>z</th>      <th>P>|z|</th>  <th>[0.025</th>    <th>0.975]</th>  \n",
       "</tr>\n",
       "<tr>\n",
       "  <th>intercept</th>    <td>   -1.3250</td> <td>    0.008</td> <td> -155.902</td> <td> 0.000</td> <td>   -1.342</td> <td>   -1.308</td>\n",
       "</tr>\n",
       "<tr>\n",
       "  <th>hypertension</th> <td>   -0.2424</td> <td>    0.022</td> <td>  -11.029</td> <td> 0.000</td> <td>   -0.286</td> <td>   -0.199</td>\n",
       "</tr>\n",
       "<tr>\n",
       "  <th>alcoholism</th>   <td>    0.0393</td> <td>    0.044</td> <td>    0.896</td> <td> 0.370</td> <td>   -0.047</td> <td>    0.125</td>\n",
       "</tr>\n",
       "<tr>\n",
       "  <th>diabetes</th>     <td>    0.0023</td> <td>    0.034</td> <td>    0.069</td> <td> 0.945</td> <td>   -0.063</td> <td>    0.068</td>\n",
       "</tr>\n",
       "</table>"
      ],
      "text/plain": [
       "<class 'statsmodels.iolib.summary.Summary'>\n",
       "\"\"\"\n",
       "                           Logit Regression Results                           \n",
       "==============================================================================\n",
       "Dep. Variable:                 noshow   No. Observations:               106977\n",
       "Model:                          Logit   Df Residuals:                   106973\n",
       "Method:                           MLE   Df Model:                            3\n",
       "Date:                Sun, 12 Apr 2020   Pseudo R-squ.:                     inf\n",
       "Time:                        14:47:22   Log-Likelihood:            -2.9941e+07\n",
       "converged:                       True   LL-Null:                        0.0000\n",
       "Covariance Type:            nonrobust   LLR p-value:                     1.000\n",
       "================================================================================\n",
       "                   coef    std err          z      P>|z|      [0.025      0.975]\n",
       "--------------------------------------------------------------------------------\n",
       "intercept       -1.3250      0.008   -155.902      0.000      -1.342      -1.308\n",
       "hypertension    -0.2424      0.022    -11.029      0.000      -0.286      -0.199\n",
       "alcoholism       0.0393      0.044      0.896      0.370      -0.047       0.125\n",
       "diabetes         0.0023      0.034      0.069      0.945      -0.063       0.068\n",
       "================================================================================\n",
       "\"\"\""
      ]
     },
     "execution_count": 1181,
     "metadata": {},
     "output_type": "execute_result"
    }
   ],
   "source": [
    "# Create dummy variables for the 'no-show' column\n",
    "no_show_df[['show','noshow']] = pd.get_dummies(no_show_df['no_show'])\n",
    "\n",
    "# Drop 'show' column because encoded variable will appear under the 'noshow' column\n",
    "no_show_df = no_show_df.drop('show', axis=1)\n",
    "\n",
    "# Set the intercept\n",
    "no_show_df['intercept'] = 1\n",
    "\n",
    "#Fit a logistic regression using three levels: hypertension, diabetes, and handicap\n",
    "log_mod = sm.Logit(no_show_df['noshow'], no_show_df[['intercept', 'hypertension', 'alcoholism','diabetes']])\n",
    "results = log_mod.fit()\n",
    "results.summary()"
   ]
  },
  {
   "cell_type": "code",
   "execution_count": 1182,
   "metadata": {},
   "outputs": [
    {
     "data": {
      "text/plain": [
       "(1.2743038124104453, 1.040082461589604, 0.997702642973332)"
      ]
     },
     "execution_count": 1182,
     "metadata": {},
     "output_type": "execute_result"
    }
   ],
   "source": [
    "\"\"\"\n",
    "Exponentiate coefficients (and compute reciprocal of coefficient < 1) \n",
    "to determine the multiplicative change in the odds of a \"1\" for every \n",
    "one unit increase of the variable.\n",
    "\"\"\"\n",
    "\n",
    "(1/np.exp(-0.2424)), np.exp(0.0393), (1/np.exp(0.0023))"
   ]
  },
  {
   "cell_type": "markdown",
   "metadata": {},
   "source": [
    "> We can see from the logistic regression results summary above that only hypertension seems to be statistically significant, with a p-value below the conventional threshold of 0.05. Furthermore, with every one unit decrease in hypertension, it is 1.27 times more likely that the patient won't show up for their appointment, holding all else constant. We can do a similar analysis based on the number of handicaps that a patient has. "
   ]
  },
  {
   "cell_type": "code",
   "execution_count": 1183,
   "metadata": {},
   "outputs": [
    {
     "name": "stdout",
     "output_type": "stream",
     "text": [
      "Optimization terminated successfully.\n",
      "         Current function value: 278.996633\n",
      "         Iterations 5\n"
     ]
    },
    {
     "name": "stderr",
     "output_type": "stream",
     "text": [
      "/Users/chloelubin/opt/anaconda3/lib/python3.7/site-packages/statsmodels/base/model.py:548: HessianInversionWarning: Inverting hessian failed, no bse or cov_params available\n",
      "  'available', HessianInversionWarning)\n",
      "/Users/chloelubin/opt/anaconda3/lib/python3.7/site-packages/statsmodels/base/model.py:548: HessianInversionWarning: Inverting hessian failed, no bse or cov_params available\n",
      "  'available', HessianInversionWarning)\n",
      "/Users/chloelubin/opt/anaconda3/lib/python3.7/site-packages/statsmodels/discrete/discrete_model.py:3409: RuntimeWarning: divide by zero encountered in double_scalars\n",
      "  return 1 - self.llf/self.llnull\n"
     ]
    },
    {
     "data": {
      "text/html": [
       "<table class=\"simpletable\">\n",
       "<caption>Logit Regression Results</caption>\n",
       "<tr>\n",
       "  <th>Dep. Variable:</th>        <td>noshow</td>      <th>  No. Observations:  </th>   <td>106977</td>   \n",
       "</tr>\n",
       "<tr>\n",
       "  <th>Model:</th>                 <td>Logit</td>      <th>  Df Residuals:      </th>   <td>106972</td>   \n",
       "</tr>\n",
       "<tr>\n",
       "  <th>Method:</th>                 <td>MLE</td>       <th>  Df Model:          </th>   <td>     4</td>   \n",
       "</tr>\n",
       "<tr>\n",
       "  <th>Date:</th>            <td>Sun, 12 Apr 2020</td> <th>  Pseudo R-squ.:     </th>   <td>   inf</td>   \n",
       "</tr>\n",
       "<tr>\n",
       "  <th>Time:</th>                <td>14:47:24</td>     <th>  Log-Likelihood:    </th> <td>-2.9846e+07</td>\n",
       "</tr>\n",
       "<tr>\n",
       "  <th>converged:</th>             <td>True</td>       <th>  LL-Null:           </th>  <td>  0.0000</td>  \n",
       "</tr>\n",
       "<tr>\n",
       "  <th>Covariance Type:</th>     <td>nonrobust</td>    <th>  LLR p-value:       </th>   <td> 1.000</td>   \n",
       "</tr>\n",
       "</table>\n",
       "<table class=\"simpletable\">\n",
       "<tr>\n",
       "       <td></td>         <th>coef</th>     <th>std err</th>      <th>z</th>      <th>P>|z|</th>  <th>[0.025</th>    <th>0.975]</th>  \n",
       "</tr>\n",
       "<tr>\n",
       "  <th>intercept</th>  <td>   -1.3672</td> <td>    0.008</td> <td> -178.006</td> <td> 0.000</td> <td>   -1.382</td> <td>   -1.352</td>\n",
       "</tr>\n",
       "<tr>\n",
       "  <th>handicap_1</th> <td>   -0.1669</td> <td>    0.059</td> <td>   -2.851</td> <td> 0.004</td> <td>   -0.282</td> <td>   -0.052</td>\n",
       "</tr>\n",
       "<tr>\n",
       "  <th>handicap_2</th> <td>   -0.0055</td> <td>    0.184</td> <td>   -0.030</td> <td> 0.976</td> <td>   -0.367</td> <td>    0.356</td>\n",
       "</tr>\n",
       "<tr>\n",
       "  <th>handicap_3</th> <td>    0.1633</td> <td>    0.658</td> <td>    0.248</td> <td> 0.804</td> <td>   -1.127</td> <td>    1.454</td>\n",
       "</tr>\n",
       "<tr>\n",
       "  <th>handicap_4</th> <td>    0.6741</td> <td>    1.225</td> <td>    0.550</td> <td> 0.582</td> <td>   -1.726</td> <td>    3.075</td>\n",
       "</tr>\n",
       "</table>"
      ],
      "text/plain": [
       "<class 'statsmodels.iolib.summary.Summary'>\n",
       "\"\"\"\n",
       "                           Logit Regression Results                           \n",
       "==============================================================================\n",
       "Dep. Variable:                 noshow   No. Observations:               106977\n",
       "Model:                          Logit   Df Residuals:                   106972\n",
       "Method:                           MLE   Df Model:                            4\n",
       "Date:                Sun, 12 Apr 2020   Pseudo R-squ.:                     inf\n",
       "Time:                        14:47:24   Log-Likelihood:            -2.9846e+07\n",
       "converged:                       True   LL-Null:                        0.0000\n",
       "Covariance Type:            nonrobust   LLR p-value:                     1.000\n",
       "==============================================================================\n",
       "                 coef    std err          z      P>|z|      [0.025      0.975]\n",
       "------------------------------------------------------------------------------\n",
       "intercept     -1.3672      0.008   -178.006      0.000      -1.382      -1.352\n",
       "handicap_1    -0.1669      0.059     -2.851      0.004      -0.282      -0.052\n",
       "handicap_2    -0.0055      0.184     -0.030      0.976      -0.367       0.356\n",
       "handicap_3     0.1633      0.658      0.248      0.804      -1.127       1.454\n",
       "handicap_4     0.6741      1.225      0.550      0.582      -1.726       3.075\n",
       "==============================================================================\n",
       "\"\"\""
      ]
     },
     "execution_count": 1183,
     "metadata": {},
     "output_type": "execute_result"
    }
   ],
   "source": [
    "dummies = pd.get_dummies(no_show_df['handicap'], prefix='handicap', prefix_sep='_')\n",
    "no_show_df = pd.concat([no_show_df, dummies], axis = 1)\n",
    "\n",
    "#Fit a logistic regression using four levels of handicap\n",
    "log_mod = sm.Logit(no_show_df['noshow'], no_show_df[['intercept','handicap_1', 'handicap_2', 'handicap_3', 'handicap_4']])\n",
    "results = log_mod.fit()\n",
    "results.summary()"
   ]
  },
  {
   "cell_type": "code",
   "execution_count": 1184,
   "metadata": {},
   "outputs": [
    {
     "data": {
      "text/plain": [
       "1.181636095790405"
      ]
     },
     "execution_count": 1184,
     "metadata": {},
     "output_type": "execute_result"
    }
   ],
   "source": [
    "1/np.exp(-0.1669)"
   ]
  },
  {
   "cell_type": "markdown",
   "metadata": {},
   "source": [
    "> Once again, only one variable appears to be statistically significant to determine the likelihood of a no-show: 'handicap_1'. In order to interpret the `handicap_1` coefficient, we need to once again compute the reciprocal of the coefficient. Based on the result, it appears that, with every one unit decrease of a patient's single handicap, it is 1.18 times more likely that the patient won't show up for their appointment, holding all else constant."
   ]
  },
  {
   "cell_type": "markdown",
   "metadata": {},
   "source": [
    "<a id='conclusion'></a>\n",
    "## Conclusion\n",
    "\n",
    "* The `gender` variable isn't a significant factor contributing to the high number of no-show appointments by itself. Combined with age, we see that there is a higher no-show rate for male patients between the ages of 0 and 10 and betwen 15 and 60 years old for female patients. We also observe that older patients of both genders seem more reliable to show up to their appointment.\n",
    "* Timing also matters a lot in the likelihood of observing a no-show. There is a higher number of no-shows on Tuesdays and Wednesdays. In addition, patients who scheduled their appointment far in advance seemed to have a lower number of no-show appointments than those who scheduled theirs within a shorter timeframe.\n",
    "* Finally, medical conditions are determining factors that can be used to estimate the probability of a no-show. As we notice from our analysis above, two medical conditions in particular seem to affect the no-show rate: hypertension and having a single handicap.\n",
    "\n",
    "> After identifying important factors contributing to the high no-show rate, we are now able to build a predictive model that would determine the outcome based on various demographic, temporal and medical factors."
   ]
  },
  {
   "cell_type": "markdown",
   "metadata": {
    "collapsed": true
   },
   "source": [
    "### Additional Sources:\n",
    "\n",
    "* https://pandas.pydata.org/pandas-docs/stable/user_guide/timeseries.html\n",
    "\n",
    "* https://pandas.pydata.org/pandas-docs/stable/reference/api/pandas.to_datetime.html\n",
    "\n",
    "* http://blog.quizzicol.com/2016/10/03/sorting-dates-in-python-by-day-of-week/\n",
    "\n",
    "* https://stackoverflow.com/questions/25674532/pythonic-way-to-add-space-before-capital-letter-if-and-only-if-previous-letter-i"
   ]
  }
 ],
 "metadata": {
  "celltoolbar": "Raw Cell Format",
  "kernelspec": {
   "display_name": "Python 3",
   "language": "python",
   "name": "python3"
  },
  "language_info": {
   "codemirror_mode": {
    "name": "ipython",
    "version": 3
   },
   "file_extension": ".py",
   "mimetype": "text/x-python",
   "name": "python",
   "nbconvert_exporter": "python",
   "pygments_lexer": "ipython3",
   "version": "3.7.6"
  }
 },
 "nbformat": 4,
 "nbformat_minor": 2
}
